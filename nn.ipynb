{
 "cells": [
  {
   "cell_type": "code",
   "execution_count": 1,
   "metadata": {},
   "outputs": [
    {
     "name": "stdout",
     "output_type": "stream",
     "text": [
      "importing Jupyter notebook from miniflow.ipynb\n"
     ]
    }
   ],
   "source": [
    "import import_ipynb\n",
    "from miniflow import *\n",
    "import numpy as np"
   ]
  },
  {
   "cell_type": "code",
   "execution_count": 2,
   "metadata": {},
   "outputs": [
    {
     "name": "stdout",
     "output_type": "stream",
     "text": [
      "shape::: 2\n",
      "[array([[ -3.34017280e-05,  -5.01025919e-05],\n",
      "       [ -6.68040138e-05,  -1.00206021e-04]]), array([[ 0.9999833],\n",
      "       [ 1.9999833]]), array([[  5.01028709e-05],\n",
      "       [  1.00205742e-04]]), array([ -5.01028709e-05])]\n"
     ]
    }
   ],
   "source": [
    "# x,y=Input(),Input()\n",
    "# f = Add(x,y)\n",
    "# feed_dict={x:10,y:15}\n",
    "# X=Input()\n",
    "# W=Input()\n",
    "# b=Input()\n",
    "# f=Linear(X,W,b)\n",
    "# g=Sigmoid(node=f)\n",
    "# X_ = np.array([[-1., -2.], [-1, -2]])\n",
    "# W_ = np.array([[2., -3], [2., -3]])\n",
    "# b_ = np.array([-3., -5])\n",
    "# feed_dict = {X: X_, W: W_, b: b_}\n",
    "\n",
    "# y, a = Input(), Input()\n",
    "# cost = MSE(y, a)\n",
    "\n",
    "# y_ = np.array([1, 2, 3])\n",
    "# a_ = np.array([4.5, 5, 10])\n",
    "\n",
    "# feed_dict = {y: y_, a: a_}\n",
    "# graph = topological_sort(feed_dict)\n",
    "# # forward pass\n",
    "# forward_pass(graph)\n",
    "\n",
    "# \"\"\"\n",
    "# Expected output\n",
    "\n",
    "# 23.4166666667\n",
    "# \"\"\"\n",
    "# print(cost.value)\n",
    "\n",
    "\n",
    "\n",
    "X, W, b = Input(), Input(), Input()\n",
    "y = Input()\n",
    "f = Linear(X, W, b)\n",
    "a = Sigmoid(f)\n",
    "cost = MSE(y, a)\n",
    "\n",
    "X_ = np.array([[-1., -2.], [-1, -2]])\n",
    "W_ = np.array([[2.], [3.]])\n",
    "b_ = np.array([-3.])\n",
    "y_ = np.array([1, 2])\n",
    "\n",
    "feed_dict = {\n",
    "    X: X_,\n",
    "    y: y_,\n",
    "    W: W_,\n",
    "    b: b_,\n",
    "}\n",
    "\n",
    "graph = topological_sort(feed_dict)\n",
    "forward_and_backward(graph)\n",
    "# return the gradients for each Input\n",
    "gradients = [t.gradients[t] for t in [X, y, W, b]]\n",
    "\n",
    "\"\"\"\n",
    "Expected output\n",
    "\n",
    "[array([[ -3.34017280e-05,  -5.01025919e-05],\n",
    "       [ -6.68040138e-05,  -1.00206021e-04]]), array([[ 0.9999833],\n",
    "       [ 1.9999833]]), array([[  5.01028709e-05],\n",
    "       [  1.00205742e-04]]), array([ -5.01028709e-05])]\n",
    "\"\"\"\n",
    "print(gradients)\n"
   ]
  },
  {
   "cell_type": "code",
   "execution_count": 3,
   "metadata": {},
   "outputs": [],
   "source": [
    "# #sort the node in topological order\n",
    "# sorted_node=topological_sort(feed_dict)\n",
    "# output = forward_pass(g,sorted_node)"
   ]
  },
  {
   "cell_type": "code",
   "execution_count": 4,
   "metadata": {},
   "outputs": [],
   "source": [
    "# print(output)"
   ]
  },
  {
   "cell_type": "code",
   "execution_count": null,
   "metadata": {},
   "outputs": [],
   "source": []
  }
 ],
 "metadata": {
  "kernelspec": {
   "display_name": "Python 3",
   "language": "python",
   "name": "python3"
  },
  "language_info": {
   "codemirror_mode": {
    "name": "ipython",
    "version": 3
   },
   "file_extension": ".py",
   "mimetype": "text/x-python",
   "name": "python",
   "nbconvert_exporter": "python",
   "pygments_lexer": "ipython3",
   "version": "3.5.2"
  },
  "widgets": {
   "state": {},
   "version": "1.1.2"
  }
 },
 "nbformat": 4,
 "nbformat_minor": 2
}
